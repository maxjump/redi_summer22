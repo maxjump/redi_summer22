{
  "nbformat": 4,
  "nbformat_minor": 0,
  "metadata": {
    "colab": {
      "name": "Untitled0.ipynb",
      "provenance": [],
      "authorship_tag": "ABX9TyMZEVqGlarDHCEDNvcOv7EE",
      "include_colab_link": true
    },
    "kernelspec": {
      "name": "python3",
      "display_name": "Python 3"
    },
    "language_info": {
      "name": "python"
    }
  },
  "cells": [
    {
      "cell_type": "markdown",
      "metadata": {
        "id": "view-in-github",
        "colab_type": "text"
      },
      "source": [
        "<a href=\"https://colab.research.google.com/github/maxjump/redi_summer22/blob/main/term_project.ipynb\" target=\"_parent\"><img src=\"https://colab.research.google.com/assets/colab-badge.svg\" alt=\"Open In Colab\"/></a>"
      ]
    },
    {
      "cell_type": "code",
      "execution_count": 2,
      "metadata": {
        "colab": {
          "base_uri": "https://localhost:8080/"
        },
        "id": "5P43Cb9ExM2p",
        "outputId": "92a9f309-c19c-454c-9750-dbeb7ebbb890"
      },
      "outputs": [
        {
          "output_type": "stream",
          "name": "stdout",
          "text": [
            "Please guess a number between 0 and 100: 5\n",
            "False\n"
          ]
        }
      ],
      "source": [
        "# This is the minimum number\n",
        "minimum = 0\n",
        "# This is the maximum number\n",
        "maximum = 100\n",
        "# This is the secret number\n",
        "secret_number = 42\n",
        "# This is the number I am guessing\n",
        "guess = input(f'Please guess a number between {minimum} and {maximum}: ')\n",
        "# This is the input evaluation\n",
        "print(input == secret_number)"
      ]
    },
    {
      "cell_type": "code",
      "source": [
        ""
      ],
      "metadata": {
        "id": "LWGDKnKK8j5x"
      },
      "execution_count": null,
      "outputs": []
    }
  ]
}