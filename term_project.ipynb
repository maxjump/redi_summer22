{
  "nbformat": 4,
  "nbformat_minor": 0,
  "metadata": {
    "colab": {
      "name": "term_project.ipynb",
      "provenance": [],
      "authorship_tag": "ABX9TyMJq54/ZlGH67shEbjOSewB",
      "include_colab_link": true
    },
    "kernelspec": {
      "name": "python3",
      "display_name": "Python 3"
    },
    "language_info": {
      "name": "python"
    }
  },
  "cells": [
    {
      "cell_type": "markdown",
      "metadata": {
        "id": "view-in-github",
        "colab_type": "text"
      },
      "source": [
        "<a href=\"https://colab.research.google.com/github/maxjump/redi_summer22/blob/main/term_project.ipynb\" target=\"_parent\"><img src=\"https://colab.research.google.com/assets/colab-badge.svg\" alt=\"Open In Colab\"/></a>"
      ]
    },
    {
      "cell_type": "code",
      "execution_count": 7,
      "metadata": {
        "colab": {
          "base_uri": "https://localhost:8080/"
        },
        "id": "5P43Cb9ExM2p",
        "outputId": "786c365b-73d7-4eb4-ec6e-adf39a579ea8"
      },
      "outputs": [
        {
          "output_type": "stream",
          "name": "stdout",
          "text": [
            "Please guess a number between 0 and 100: 11\n",
            "The number is too low!\n"
          ]
        }
      ],
      "source": [
        "# This is the minimum number\n",
        "minimum = 0\n",
        "# This is the maximum number\n",
        "maximum = 100\n",
        "# This is the secret number\n",
        "secret_number = 42\n",
        "# This is the number I am guessing\n",
        "guess = int(input(f'Please guess a number between {minimum} and {maximum}: '))\n",
        "# This is the input evaluation\n",
        "if guess > secret_number:\n",
        "  print('The number is too high!')\n",
        "elif guess < secret_number:\n",
        "  print('The number is too low!')\n",
        "else:\n",
        "  print('HOORAY! You guessed the correct number!')"
      ]
    },
    {
      "cell_type": "code",
      "source": [
        ""
      ],
      "metadata": {
        "id": "LWGDKnKK8j5x"
      },
      "execution_count": null,
      "outputs": []
    }
  ]
}